{
  "nbformat": 4,
  "nbformat_minor": 0,
  "metadata": {
    "colab": {
      "provenance": [],
      "authorship_tag": "ABX9TyOMUbKJUgbf11x2Jl9TUJ99",
      "include_colab_link": true
    },
    "kernelspec": {
      "name": "python3",
      "display_name": "Python 3"
    },
    "language_info": {
      "name": "python"
    }
  },
  "cells": [
    {
      "cell_type": "markdown",
      "metadata": {
        "id": "view-in-github",
        "colab_type": "text"
      },
      "source": [
        "<a href=\"https://colab.research.google.com/github/PietroDub/Meu_Primeiro_LLM/blob/main/Untitled0.ipynb\" target=\"_parent\"><img src=\"https://colab.research.google.com/assets/colab-badge.svg\" alt=\"Open In Colab\"/></a>"
      ]
    },
    {
      "cell_type": "code",
      "execution_count": null,
      "metadata": {
        "id": "pJLg8eSYKbIB"
      },
      "outputs": [],
      "source": []
    },
    {
      "cell_type": "markdown",
      "source": [
        "INSTALANDO O SDK DO GOOGLE\n"
      ],
      "metadata": {
        "id": "RjzDu7tFOgUF"
      }
    },
    {
      "cell_type": "code",
      "source": [
        "!pip install -q -U google-generativeai"
      ],
      "metadata": {
        "id": "coIBk3x7K9b7"
      },
      "execution_count": 1,
      "outputs": []
    },
    {
      "cell_type": "code",
      "source": [
        "import google.generativeai as genai\n",
        "api_key = userdata.get = \"SECRET_KEY\"\n",
        "genai.configure(api_key=api_key)"
      ],
      "metadata": {
        "id": "2ghGlLIXMZuX"
      },
      "execution_count": 5,
      "outputs": []
    },
    {
      "cell_type": "markdown",
      "source": [
        "Listar os modelos disponiveis!\n",
        "\n"
      ],
      "metadata": {
        "id": "Tu5NKM6uOlNM"
      }
    },
    {
      "cell_type": "code",
      "source": [
        "for m in genai.list_models():\n",
        " if 'GenerateContent' in m.supported_generation_methods:\n",
        "  print(m.name)"
      ],
      "metadata": {
        "id": "8UAF2UNTN93F"
      },
      "execution_count": 12,
      "outputs": []
    },
    {
      "cell_type": "markdown",
      "source": [
        "ADICIONANDO PADRÕES"
      ],
      "metadata": {
        "id": "XDjvwCe8RSk9"
      }
    },
    {
      "cell_type": "code",
      "source": [
        "generation_config ={\n",
        "    \"candidate_count\":1,\n",
        "    \"temperature\":0.5,\n",
        "    \"top_k\":40,\n",
        "    \"top_p\":0.95,\n",
        "\n",
        "}"
      ],
      "metadata": {
        "id": "0wsKaccAQW1H"
      },
      "execution_count": 18,
      "outputs": []
    },
    {
      "cell_type": "markdown",
      "source": [
        "ADICIONANDO FILTROS"
      ],
      "metadata": {
        "id": "crR1ONF1RVbP"
      }
    },
    {
      "cell_type": "code",
      "source": [
        "safety_settings ={\n",
        "    \"HARASSMENT\": \"BLOCK_NONE\",\n",
        "    \"HATE\": \"BLOCK_NONE\",\n",
        "    \"DANGEROUS\": \"BLOCK_NONE\",\n",
        "    \"SEXUAL\": \"BLOCK_NONE\",\n",
        "\n",
        "}"
      ],
      "metadata": {
        "id": "fz30xtkxQikZ"
      },
      "execution_count": 19,
      "outputs": []
    },
    {
      "cell_type": "markdown",
      "source": [
        "INCIALIZANDO O MODELO"
      ],
      "metadata": {
        "id": "Mk6uFUUnRX6N"
      }
    },
    {
      "cell_type": "code",
      "source": [
        "model = genai.GenerativeModel(model_name=\"gemini-1.0-pro\",\n",
        "                              generation_config=generation_config,\n",
        "                              safety_settings=safety_settings)"
      ],
      "metadata": {
        "id": "FeKRy3nWRZkw"
      },
      "execution_count": 20,
      "outputs": []
    },
    {
      "cell_type": "code",
      "source": [
        "response = model.generate_content(\"Vamos aprender sobre IA. Me dê sugestões\")\n",
        "print(response.text)"
      ],
      "metadata": {
        "colab": {
          "base_uri": "https://localhost:8080/",
          "height": 714
        },
        "id": "AgVN0Pg2RLE2",
        "outputId": "96d51900-bcc3-4886-e8a6-6ef540e27e13"
      },
      "execution_count": 21,
      "outputs": [
        {
          "output_type": "stream",
          "name": "stdout",
          "text": [
            "**Recursos Online:**\n",
            "\n",
            "* **Coursera:** Cursos online gratuitos e pagos sobre IA, aprendizado de máquina e aprendizado profundo\n",
            "* **edX:** Cursos online gratuitos e pagos de universidades e instituições líderes sobre IA\n",
            "* **Udemy:** Cursos online pagos sobre IA para iniciantes e profissionais avançados\n",
            "* **Google AI Education:** Recursos gratuitos para aprender sobre IA, incluindo cursos, tutoriais e projetos\n",
            "* **IBM AI Academy:** Cursos gratuitos e pagos sobre IA, aprendizado de máquina e ciência de dados\n",
            "\n",
            "**Livros:**\n",
            "\n",
            "* **Inteligência Artificial: Uma Abordagem Moderna (4ª Edição)** por Stuart Russell e Peter Norvig\n",
            "* **Aprendizado de Máquina (4ª Edição)** por Ethem Alpaydin\n",
            "* **Aprendizado Profundo (2ª Edição)** por Ian Goodfellow, Yoshua Bengio e Aaron Courville\n",
            "* **Inteligência Artificial: Um Guia Prático (2ª Edição)** por Kevin Warwick\n",
            "* **Inteligência Artificial para Todos (2ª Edição)** por David L. Poole e Alan K. Mackworth\n",
            "\n",
            "**Podcasts:**\n",
            "\n",
            "* **The AI Podcast:** Entrevistas com especialistas em IA sobre tópicos atuais\n",
            "* **Lex Fridman Podcast:** Discussões aprofundadas sobre IA, ciência e tecnologia\n",
            "* **Machine Learning Podcast:** Entrevistas com pesquisadores e profissionais de aprendizado de máquina\n",
            "* **The Data Science Podcast:** Cobertura de IA, aprendizado de máquina e ciência de dados\n",
            "* **The Artificial Intelligence Show:** Notícias e análises sobre o campo da IA\n",
            "\n",
            "**Comunidades e Fóruns:**\n",
            "\n",
            "* **Reddit:** Subreddits como /r/artificialintelligence e /r/machinelearning\n",
            "* **Stack Overflow:** Fórum de perguntas e respostas para desenvolvedores de IA\n",
            "* **Kaggle:** Comunidade online para competições de ciência de dados e aprendizado de máquina\n",
            "* **Meetup:** Grupos locais que organizam eventos e palestras sobre IA\n",
            "* **Conferências:** Conferências como NeurIPS, ICML e AAAI oferecem oportunidades de aprendizado e networking\n",
            "\n",
            "**Projetos Práticos:**\n",
            "\n",
            "* **Construa um chatbot:** Use bibliotecas como Rasa ou Dialogflow para criar um chatbot que possa responder a perguntas e se envolver em conversas.\n",
            "* **Treine um modelo de reconhecimento de imagem:** Use bibliotecas como TensorFlow ou PyTorch para treinar um modelo que possa identificar objetos em imagens.\n",
            "* **Analise dados com aprendizado de máquina:** Use bibliotecas como scikit-learn ou Pandas para analisar dados e fazer previsões.\n",
            "* **Crie um aplicativo de IA:** Desenvolva um aplicativo que use IA para resolver um problema específico, como reconhecimento facial ou tradução de idiomas.\n",
            "* **Participe de competições de IA:** Participe de competições como o Kaggle para aprimorar suas habilidades e aprender com outros.\n"
          ]
        }
      ]
    },
    {
      "cell_type": "markdown",
      "source": [
        "CRIANDO O CHAT , E SUA *FUNCIONALIDADE*"
      ],
      "metadata": {
        "id": "LZJoWWLwYPZJ"
      }
    },
    {
      "cell_type": "code",
      "source": [
        "chat = model.start_chat(history=[])"
      ],
      "metadata": {
        "id": "qvdIlLJuVVGd"
      },
      "execution_count": 22,
      "outputs": []
    },
    {
      "cell_type": "code",
      "source": [
        "prompt = input(\"Esperando prompt: \")\n",
        "while prompt != \"fim\":\n",
        "  response = chat.send_message(prompt)\n",
        "  print(\"Resposta:\",response.text)\n",
        "  prompt = input(\"Esperando prompt: \")"
      ],
      "metadata": {
        "colab": {
          "base_uri": "https://localhost:8080/",
          "height": 419
        },
        "id": "I-VdYdMEV78p",
        "outputId": "9942160a-7d18-4a4e-d3f1-69e669747eb1"
      },
      "execution_count": 32,
      "outputs": [
        {
          "name": "stdout",
          "output_type": "stream",
          "text": [
            "Esperando prompt: O que é dia das mães?\n",
            "Resposta: O Dia das Mães é um feriado celebrado em homenagem às mães, à maternidade e à influência das mães na sociedade. É comemorado em diferentes datas em vários países do mundo, mas geralmente cai no segundo domingo de maio.\n",
            "\n",
            "No Dia das Mães, as pessoas expressam seu amor e gratidão por suas mães por meio de presentes, cartões, flores, refeições especiais e outras demonstrações de afeto. É também um dia para refletir sobre o papel importante que as mães desempenham na vida de seus filhos e na sociedade como um todo.\n",
            "Esperando prompt: Crie um cartão curto , de agradecimento de dias das mães para uma mulher chamada eva \n",
            "Resposta: **Frente do cartão:**\n",
            "\n",
            "Para a melhor mãe do mundo, Eva\n",
            "\n",
            "**Dentro do cartão:**\n",
            "\n",
            "Querida Eva,\n",
            "\n",
            "Neste Dia das Mães, quero expressar todo o meu amor e gratidão por tudo o que você fez por mim.\n",
            "\n",
            "Você sempre esteve lá para me apoiar, me encorajar e me amar incondicionalmente. Você me ensinou tudo o que sei e me ajudou a me tornar a pessoa que sou hoje.\n",
            "\n",
            "Sou eternamente grato por ter você como minha mãe. Você é a melhor!\n",
            "\n",
            "Com muito amor,\n",
            "[Seu nome]\n",
            "Esperando prompt: fim\n"
          ]
        }
      ]
    },
    {
      "cell_type": "markdown",
      "source": [
        "HISTÓRICO DO CHAT"
      ],
      "metadata": {
        "id": "SgVnCunBYeDk"
      }
    },
    {
      "cell_type": "code",
      "source": [
        "chat.history"
      ],
      "metadata": {
        "colab": {
          "base_uri": "https://localhost:8080/"
        },
        "id": "i5y2_hNpYbDL",
        "outputId": "578b7a5b-fdd5-4b88-8d77-a45a2cfb5e66"
      },
      "execution_count": 25,
      "outputs": [
        {
          "output_type": "execute_result",
          "data": {
            "text/plain": [
              "[parts {\n",
              "   text: \"Qual a capital do jap\\303\\243o?\"\n",
              " }\n",
              " role: \"user\",\n",
              " parts {\n",
              "   text: \"T\\303\\263quio\"\n",
              " }\n",
              " role: \"model\",\n",
              " parts {\n",
              "   text: \"Qual a comida t\\303\\255pica desse pa\\303\\255s?\"\n",
              " }\n",
              " role: \"user\",\n",
              " parts {\n",
              "   text: \"Sushi\"\n",
              " }\n",
              " role: \"model\",\n",
              " parts {\n",
              "   text: \"Qual a popula\\303\\247\\303\\243o dessa cidade?\"\n",
              " }\n",
              " role: \"user\",\n",
              " parts {\n",
              "   text: \"T\\303\\263quio: 9.000.916 (2023)\"\n",
              " }\n",
              " role: \"model\"]"
            ]
          },
          "metadata": {},
          "execution_count": 25
        }
      ]
    },
    {
      "cell_type": "markdown",
      "source": [
        "DEIXANDO BUNITINHO"
      ],
      "metadata": {
        "id": "5db5BhaZYq80"
      }
    },
    {
      "cell_type": "code",
      "source": [
        "#Melhorando a visualização\n",
        "#Código disponível em https://ai.google.dev/tutorials/python_quickstart#import_packages\n",
        "import textwrap\n",
        "from IPython.display import display\n",
        "from IPython.display import Markdown\n",
        "\n",
        "def to_markdown(text):\n",
        "    text = text.replace(' * ', ' ** ')\n",
        "    return Markdown(textwrap.indent(text, '> ', predicate=lambda _: True))\n",
        "\n",
        "#Imprimindo o histórico\n",
        "for message in chat.history:\n",
        "    display(to_markdown(f'* **{message.role}**: {message.parts[0].text}'))\n",
        "    print()"
      ],
      "metadata": {
        "colab": {
          "base_uri": "https://localhost:8080/",
          "height": 393
        },
        "id": "yjxYa7sYYA5n",
        "outputId": "1906ce29-2cbe-42b2-b290-e79bf3225a4f"
      },
      "execution_count": 31,
      "outputs": [
        {
          "output_type": "display_data",
          "data": {
            "text/plain": [
              "<IPython.core.display.Markdown object>"
            ],
            "text/markdown": "> * **user**: Qual a capital do japão?"
          },
          "metadata": {}
        },
        {
          "output_type": "stream",
          "name": "stdout",
          "text": [
            "\n"
          ]
        },
        {
          "output_type": "display_data",
          "data": {
            "text/plain": [
              "<IPython.core.display.Markdown object>"
            ],
            "text/markdown": "> * **model**: Tóquio"
          },
          "metadata": {}
        },
        {
          "output_type": "stream",
          "name": "stdout",
          "text": [
            "\n"
          ]
        },
        {
          "output_type": "display_data",
          "data": {
            "text/plain": [
              "<IPython.core.display.Markdown object>"
            ],
            "text/markdown": "> * **user**: Qual a comida típica desse país?"
          },
          "metadata": {}
        },
        {
          "output_type": "stream",
          "name": "stdout",
          "text": [
            "\n"
          ]
        },
        {
          "output_type": "display_data",
          "data": {
            "text/plain": [
              "<IPython.core.display.Markdown object>"
            ],
            "text/markdown": "> * **model**: Sushi"
          },
          "metadata": {}
        },
        {
          "output_type": "stream",
          "name": "stdout",
          "text": [
            "\n"
          ]
        },
        {
          "output_type": "display_data",
          "data": {
            "text/plain": [
              "<IPython.core.display.Markdown object>"
            ],
            "text/markdown": "> * **user**: Qual a população dessa cidade?"
          },
          "metadata": {}
        },
        {
          "output_type": "stream",
          "name": "stdout",
          "text": [
            "\n"
          ]
        },
        {
          "output_type": "display_data",
          "data": {
            "text/plain": [
              "<IPython.core.display.Markdown object>"
            ],
            "text/markdown": "> * **model**: Tóquio: 9.000.916 (2023)"
          },
          "metadata": {}
        },
        {
          "output_type": "stream",
          "name": "stdout",
          "text": [
            "\n"
          ]
        }
      ]
    }
  ]
}